{
 "cells": [
  {
   "cell_type": "code",
   "execution_count": 2,
   "metadata": {
    "collapsed": true
   },
   "outputs": [],
   "source": [
    "import pandas as pd\n",
    "\n",
    "google = pd.read_csv(\"csv/google_stock_price.csv\", squeeze=True) #squezze true faz com que o retorno seja na forma de série\n",
    "pokemon = pd.read_csv(\"csv/pokemon.csv\", usecols = [\"Pokemon\"], squeeze=True) "
   ]
  },
  {
   "cell_type": "code",
   "execution_count": 4,
   "metadata": {},
   "outputs": [
    {
     "data": {
      "text/plain": [
       "'Oshawott'"
      ]
     },
     "execution_count": 4,
     "metadata": {},
     "output_type": "execute_result"
    }
   ],
   "source": [
    "pokemon[500]"
   ]
  },
  {
   "cell_type": "code",
   "execution_count": 7,
   "metadata": {},
   "outputs": [
    {
     "data": {
      "text/plain": [
       "100    Electrode\n",
       "200        Unown\n",
       "300     Delcatty\n",
       "Name: Pokemon, dtype: object"
      ]
     },
     "execution_count": 7,
     "metadata": {},
     "output_type": "execute_result"
    }
   ],
   "source": [
    "pokemon[[100, 200, 300]]"
   ]
  },
  {
   "cell_type": "code",
   "execution_count": 10,
   "metadata": {},
   "outputs": [
    {
     "data": {
      "text/plain": [
       "50       Dugtrio\n",
       "51        Meowth\n",
       "52       Persian\n",
       "53       Psyduck\n",
       "54       Golduck\n",
       "55        Mankey\n",
       "56      Primeape\n",
       "57     Growlithe\n",
       "58      Arcanine\n",
       "59       Poliwag\n",
       "60     Poliwhirl\n",
       "61     Poliwrath\n",
       "62          Abra\n",
       "63       Kadabra\n",
       "64      Alakazam\n",
       "65        Machop\n",
       "66       Machoke\n",
       "67       Machamp\n",
       "68    Bellsprout\n",
       "69    Weepinbell\n",
       "70    Victreebel\n",
       "71     Tentacool\n",
       "72    Tentacruel\n",
       "73       Geodude\n",
       "74      Graveler\n",
       "75         Golem\n",
       "76        Ponyta\n",
       "77      Rapidash\n",
       "78      Slowpoke\n",
       "79       Slowbro\n",
       "80     Magnemite\n",
       "81      Magneton\n",
       "82    Farfetch'd\n",
       "83         Doduo\n",
       "84        Dodrio\n",
       "85          Seel\n",
       "86       Dewgong\n",
       "87        Grimer\n",
       "88           Muk\n",
       "89      Shellder\n",
       "90      Cloyster\n",
       "91        Gastly\n",
       "92       Haunter\n",
       "93        Gengar\n",
       "94          Onix\n",
       "95       Drowzee\n",
       "96         Hypno\n",
       "97        Krabby\n",
       "98       Kingler\n",
       "99       Voltorb\n",
       "Name: Pokemon, dtype: object"
      ]
     },
     "execution_count": 10,
     "metadata": {},
     "output_type": "execute_result"
    }
   ],
   "source": [
    "pokemon[50:100]"
   ]
  },
  {
   "cell_type": "code",
   "execution_count": 13,
   "metadata": {},
   "outputs": [
    {
     "data": {
      "text/plain": [
       "691     Clauncher\n",
       "692     Clawitzer\n",
       "693    Helioptile\n",
       "694     Heliolisk\n",
       "695        Tyrunt\n",
       "696     Tyrantrum\n",
       "697        Amaura\n",
       "698       Aurorus\n",
       "699       Sylveon\n",
       "700      Hawlucha\n",
       "701       Dedenne\n",
       "702       Carbink\n",
       "703         Goomy\n",
       "704       Sliggoo\n",
       "705        Goodra\n",
       "706        Klefki\n",
       "707      Phantump\n",
       "708     Trevenant\n",
       "709     Pumpkaboo\n",
       "710     Gourgeist\n",
       "Name: Pokemon, dtype: object"
      ]
     },
     "execution_count": 13,
     "metadata": {},
     "output_type": "execute_result"
    }
   ],
   "source": [
    "pokemon[:50]\n",
    "\n",
    "pokemon[-30:]\n",
    "\n",
    "pokemon[-30: -10]"
   ]
  }
 ],
 "metadata": {
  "kernelspec": {
   "display_name": "Python 3",
   "language": "python",
   "name": "python3"
  },
  "language_info": {
   "codemirror_mode": {
    "name": "ipython",
    "version": 3
   },
   "file_extension": ".py",
   "mimetype": "text/x-python",
   "name": "python",
   "nbconvert_exporter": "python",
   "pygments_lexer": "ipython3",
   "version": "3.6.3"
  }
 },
 "nbformat": 4,
 "nbformat_minor": 2
}
